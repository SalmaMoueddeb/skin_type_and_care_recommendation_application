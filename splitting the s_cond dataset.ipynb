{
 "cells": [
  {
   "cell_type": "markdown",
   "id": "6276e5f8",
   "metadata": {},
   "source": [
    "## Splitting the skin Condition dataset"
   ]
  },
  {
   "cell_type": "code",
   "execution_count": null,
   "id": "318f6b95",
   "metadata": {},
   "outputs": [],
   "source": [
    "import os\n",
    "os.environ[\"CUDA_VISIBLE_DEVICES\"] = \"0\"\n"
   ]
  },
  {
   "cell_type": "code",
   "execution_count": null,
   "id": "b9db6a1f",
   "metadata": {},
   "outputs": [],
   "source": [
    "ds_path=\"C:/Users/salma/OneDrive/Documents/pfa/dataset\"\n",
    "skcond_path=os.path.join(ds_path,'Skin_Conditions').replace('\\\\','/')  "
   ]
  },
  {
   "cell_type": "code",
   "execution_count": null,
   "id": "97abf82d",
   "metadata": {},
   "outputs": [],
   "source": [
    "#Manually splitting the data for the skin condition folder\n",
    "def split_data(source, train_dir, test_dir, val_dir, test_size=0.10, val_size=0.10):\n",
    "    classes = os.listdir(source)\n",
    "    for cls in classes:\n",
    "        os.makedirs(os.path.join(train_dir, cls).replace('\\\\','/'), exist_ok=True)\n",
    "        os.makedirs(os.path.join(test_dir, cls).replace('\\\\','/'), exist_ok=True)\n",
    "        os.makedirs(os.path.join(val_dir, cls).replace('\\\\','/'), exist_ok=True)\n",
    "        \n",
    "        files = os.listdir(os.path.join(source, cls).replace('\\\\','/'))\n",
    "        train_files, test_val_files = train_test_split(files, test_size=test_size + val_size, random_state=42)\n",
    "        test_files, val_files = train_test_split(test_val_files, test_size=val_size/(test_size + val_size), random_state=42)\n",
    "        \n",
    "        for f in train_files:\n",
    "            shutil.copy(os.path.join(source, cls, f).replace('\\\\','/'), os.path.join(train_dir, cls, f).replace('\\\\','/'))\n",
    "        for f in test_files:\n",
    "            shutil.copy(os.path.join(source, cls, f).replace('\\\\','/'), os.path.join(test_dir, cls, f).replace('\\\\','/'))\n",
    "        for f in val_files:\n",
    "            shutil.copy(os.path.join(source, cls, f).replace('\\\\','/'), os.path.join(val_dir, cls, f).replace('\\\\','/'))\n",
    "\n",
    "split_data(\n",
    "    skcond_path,\n",
    "    \"C:/Users/salma/OneDrive/Documents/pfa/dataset/face_condition_split/train\",\n",
    "    \"C:/Users/salma/OneDrive/Documents/pfa/dataset/face_condition_split/test\",\n",
    "    \"C:/Users/salma/OneDrive/Documents/pfa/dataset/face_condition_split/val\"\n",
    ")\n",
    "\n",
    "#defining the newly splitted data\n",
    "skconds_path=\"C:/Users/salma/OneDrive/Documents/pfa/dataset/face_condition_split\""
   ]
  }
 ],
 "metadata": {
  "kernelspec": {
   "display_name": "Python 3 (ipykernel)",
   "language": "python",
   "name": "python3"
  },
  "language_info": {
   "codemirror_mode": {
    "name": "ipython",
    "version": 3
   },
   "file_extension": ".py",
   "mimetype": "text/x-python",
   "name": "python",
   "nbconvert_exporter": "python",
   "pygments_lexer": "ipython3",
   "version": "3.11.9"
  },
  "widgets": {
   "application/vnd.jupyter.widget-state+json": {
    "state": {},
    "version_major": 2,
    "version_minor": 0
   }
  }
 },
 "nbformat": 4,
 "nbformat_minor": 5
}
